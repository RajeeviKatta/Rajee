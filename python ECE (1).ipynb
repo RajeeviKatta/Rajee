{
 "cells": [
  {
   "cell_type": "code",
   "execution_count": null,
   "metadata": {},
   "outputs": [],
   "source": []
  },
  {
   "cell_type": "code",
   "execution_count": null,
   "metadata": {},
   "outputs": [],
   "source": [
    "ord('a') # ord() function gives the output as number which is equ to Ascii number"
   ]
  },
  {
   "cell_type": "code",
   "execution_count": null,
   "metadata": {},
   "outputs": [],
   "source": [
    "# Function to Extract the digits from the string\n",
    "# Example #1:\n",
    "# Input : Appli18cation89\n",
    "# Output : 1 8 8 9\n",
    "\n",
    "def extractDigits(s):\n",
    "    for i in range(len(s)):\n",
    "        if ord(s[i]) >= 48 and ord(s[i]) <= 57:\n",
    "            print(s[i],end=' ')\n",
    "    return\n",
    "extractDigits('Appli18cation89')"
   ]
  },
  {
   "cell_type": "code",
   "execution_count": null,
   "metadata": {},
   "outputs": [],
   "source": [
    "# Check the input is Leap year or not\n",
    "year = int(input(''))\n",
    "if year % 400 == 0 or (year % 100 != 0 and year % 4 ==0 ):\n",
    "    print('Leap year')\n",
    "else:\n",
    "    print('Not leap year')"
   ]
  },
  {
   "cell_type": "code",
   "execution_count": null,
   "metadata": {},
   "outputs": [],
   "source": [
    "Functional Programming\n",
    "Simple\n",
    "Easy understand\n",
    "Better Reuseability\n",
    "Lengthy Program will be divided into Sub Programs"
   ]
  },
  {
   "cell_type": "code",
   "execution_count": null,
   "metadata": {},
   "outputs": [],
   "source": [
    "def nameoftheFunction(<parameters>):\n",
    "    Statements\n",
    "    return"
   ]
  },
  {
   "cell_type": "code",
   "execution_count": null,
   "metadata": {},
   "outputs": [],
   "source": [
    "# Read a number as input\n",
    "# Output has be Digits of the number\n",
    "\n",
    "# Input : 123\n",
    "# Output : 3 2 1\n",
    "\n",
    "n = int(input(''))\n",
    "while n != 0 :\n",
    "    print(n%10,end=' ')\n",
    "    n = n // 10"
   ]
  },
  {
   "cell_type": "code",
   "execution_count": null,
   "metadata": {},
   "outputs": [],
   "source": [
    "# Read a numbers as input\n",
    "# Output as Only even numbers sum from 1 to N\n",
    "\n",
    "#input  : 10\n",
    "#Output : 30 (2+4+6+8+10)\n",
    "\n",
    "n = int(input(''))\n",
    "i = 0\n",
    "s = 0\n",
    "while i <= n:\n",
    "    if i % 2 is 0:\n",
    "        s = s +i        \n",
    "    i = i + 1 \n",
    "print(s)"
   ]
  },
  {
   "cell_type": "code",
   "execution_count": null,
   "metadata": {},
   "outputs": [],
   "source": [
    "def evenDigitSum(n):\n",
    "    s = 0\n",
    "    while n != 0:\n",
    "        r = n % 10\n",
    "        if r % 2 is not 0:\n",
    "            s = s + r\n",
    "        n = n // 10           \n",
    "    return s\n",
    "evenDigitSum(1234)   "
   ]
  },
  {
   "cell_type": "code",
   "execution_count": null,
   "metadata": {},
   "outputs": [],
   "source": [
    "# Input : 19535\n",
    "# Output : 9 (Large digit of the given number)\n",
    "# Functional programming\n",
    "def Lar(n):\n",
    "    \n",
    "    buff = 0\n",
    "    while n!=0:\n",
    "        r=  n%10\n",
    "        if buff < r:\n",
    "            buff=r\n",
    "        n=n//10\n",
    "    return buff    \n",
    "    \n",
    "Lar(19535)"
   ]
  },
  {
   "cell_type": "code",
   "execution_count": null,
   "metadata": {},
   "outputs": [],
   "source": [
    "# Function to print the numbers between two limits\n",
    "# Input  : 11 25 \n",
    "# Output : 11 12 13 14 .............. 25\n",
    "\n",
    "def printSeries(lb,ub):\n",
    "    for x in range(lb,ub+1):\n",
    "        print(x,end = ' ')\n",
    "    return\n",
    "printSeries(11,25)"
   ]
  }
 ],
 "metadata": {
  "kernelspec": {
   "display_name": "Python 3",
   "language": "python",
   "name": "python3"
  },
  "language_info": {
   "codemirror_mode": {
    "name": "ipython",
    "version": 3
   },
   "file_extension": ".py",
   "mimetype": "text/x-python",
   "name": "python",
   "nbconvert_exporter": "python",
   "pygments_lexer": "ipython3",
   "version": "3.7.3"
  }
 },
 "nbformat": 4,
 "nbformat_minor": 2
}
